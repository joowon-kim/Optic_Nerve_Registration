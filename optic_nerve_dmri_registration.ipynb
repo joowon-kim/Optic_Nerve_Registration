{
 "cells": [
  {
   "cell_type": "markdown",
   "metadata": {},
   "source": [
    "# Optic Nerve Registration\n",
    "## Non-linear movement/distortion correction in human optic nerve diffusion imaging"
   ]
  },
  {
   "cell_type": "markdown",
   "metadata": {},
   "source": [
    "### Steps:\n",
    "* extract optic nerve centerline\n",
    "* fit the double Gaussian optic nerve model to coronal slices\n",
    "* segment optic nerve\n",
    "* register segmentation\n",
    "* apply warp"
   ]
  },
  {
   "cell_type": "markdown",
   "metadata": {},
   "source": [
    "## USER INPUT: directory / filename"
   ]
  },
  {
   "cell_type": "code",
   "execution_count": 4,
   "metadata": {
    "collapsed": true
   },
   "outputs": [],
   "source": [
    "working_dir = '/Users/joowon/research/optic_nerve/DBSI_ON/DBSIONE008/16_0128/preproc_12_15/DBSIONE008_reg_wo_eddy'\n",
    "filename = 'DBSIONE008_PA_2merged_rigid.nii.gz'"
   ]
  },
  {
   "cell_type": "markdown",
   "metadata": {},
   "source": [
    "### import modules"
   ]
  },
  {
   "cell_type": "code",
   "execution_count": 5,
   "metadata": {
    "collapsed": false
   },
   "outputs": [],
   "source": [
    "%matplotlib inline\n",
    "import numpy as np\n",
    "import nibabel as nib\n",
    "import matplotlib.pyplot as plt\n",
    "import scipy.ndimage as ndimage\n",
    "import os\n",
    "import sys\n",
    "from on_utils import filename_wo_ext\n",
    "import scipy.optimize as opt\n",
    "import math\n",
    "import time\n",
    "import on_dbsi_utils\n",
    "import on_model"
   ]
  },
  {
   "cell_type": "code",
   "execution_count": 7,
   "metadata": {
    "collapsed": true
   },
   "outputs": [],
   "source": [
    "filename_on_init = filename_wo_ext(filename) + '_on_init.nii.gz'\n",
    "filename_flt_1 = filename_wo_ext(filename) + '_fltered_1.nii.gz'\n",
    "filename_flt = filename_wo_ext(filename) + '_fltered.nii.gz'\n",
    "filename_edge = filename_wo_ext(filename) + '_fltered_edge.nii.gz'\n",
    "filename_centerline = filename_wo_ext(filename) + '_on_centerline.nii.gz'\n",
    "filename_centerline_dilated = on_dbsi_utils.filename_wo_ext(filename) + '_on_centerline_dilated.nii.gz'\n",
    "filename_model = filename_wo_ext(filename) + '_on_model.nii.gz'"
   ]
  },
  {
   "cell_type": "markdown",
   "metadata": {},
   "source": [
    "## Run centerline extraction"
   ]
  },
  {
   "cell_type": "raw",
   "metadata": {
    "collapsed": false
   },
   "source": [
    "import on_centerline\n",
    "reload(on_centerline)\n",
    "on_centerline.run(os.path.join(working_dir, filename),\n",
    "                  os.path.join(working_dir, filename_on_init),\n",
    "                  os.path.join(working_dir, filename_flt_1),\n",
    "                  os.path.join(working_dir, filename_centerline),\n",
    "                  os.path.join(working_dir, filename_centerline_dilated),)"
   ]
  },
  {
   "cell_type": "markdown",
   "metadata": {},
   "source": [
    "## Check and modify centerline"
   ]
  },
  {
   "cell_type": "raw",
   "metadata": {
    "collapsed": false
   },
   "source": [
    "on_dbsi_utils.run_command('fslview %s %s -l Red' % (os.path.join(working_dir, filename), os.path.join(working_dir, filename_centerline)))"
   ]
  },
  {
   "cell_type": "markdown",
   "metadata": {},
   "source": [
    "## Fitting"
   ]
  },
  {
   "cell_type": "code",
   "execution_count": 9,
   "metadata": {
    "collapsed": false
   },
   "outputs": [
    {
     "name": "stderr",
     "output_type": "stream",
     "text": [
      "/usr/local/lib/python2.7/site-packages/scipy/optimize/minpack.py:690: OptimizeWarning: Covariance of the parameters could not be estimated\n",
      "  category=OptimizeWarning)\n"
     ]
    },
    {
     "name": "stdout",
     "output_type": "stream",
     "text": [
      "--- 298.088864088 seconds ---\n"
     ]
    }
   ],
   "source": [
    "on = on_model.OpticNerveFit()\n",
    "on.read_dat(os.path.join(working_dir, filename))\n",
    "on.read_init_center(os.path.join(working_dir, filename_centerline))\n",
    "on.fit()"
   ]
  },
  {
   "cell_type": "code",
   "execution_count": 11,
   "metadata": {
    "collapsed": false
   },
   "outputs": [],
   "source": [
    "on.save(os.path.join(working_dir, 'tmp_on_save'))"
   ]
  },
  {
   "cell_type": "markdown",
   "metadata": {},
   "source": [
    "### Find fitting outliers and estimate correct centers"
   ]
  },
  {
   "cell_type": "code",
   "execution_count": 12,
   "metadata": {
    "collapsed": false
   },
   "outputs": [],
   "source": [
    "on.outlier()\n",
    "on.estimate()"
   ]
  },
  {
   "cell_type": "code",
   "execution_count": 16,
   "metadata": {
    "collapsed": true
   },
   "outputs": [],
   "source": [
    "on.save(os.path.join(working_dir, 'tmp_on_save_2'))"
   ]
  },
  {
   "cell_type": "code",
   "execution_count": 18,
   "metadata": {
    "collapsed": false
   },
   "outputs": [],
   "source": [
    "on_dil = on.make_segmentation()"
   ]
  },
  {
   "cell_type": "code",
   "execution_count": 19,
   "metadata": {
    "collapsed": true
   },
   "outputs": [],
   "source": [
    "on.hdr.set_data_dtype(on_dil.dtype)\n",
    "img_tmp = nib.Nifti1Image(on_dil, on.aff, on.hdr)\n",
    "nib.save(img_tmp, os.path.join(working_dir, filename_model))"
   ]
  },
  {
   "cell_type": "markdown",
   "metadata": {
    "collapsed": true
   },
   "source": [
    "## Registration"
   ]
  },
  {
   "cell_type": "code",
   "execution_count": 85,
   "metadata": {
    "collapsed": true
   },
   "outputs": [],
   "source": [
    "run_command = on_dbsi_utils.run_command"
   ]
  },
  {
   "cell_type": "code",
   "execution_count": 86,
   "metadata": {
    "collapsed": false
   },
   "outputs": [
    {
     "name": "stdout",
     "output_type": "stream",
     "text": [
      ">> mkdir -p /Users/joowon/research/optic_nerve/DBSI_ON/DBSIONV006/15_1118/preproc_16_18/DBSIONV006_reg/registration\n"
     ]
    },
    {
     "data": {
      "text/plain": [
       "0"
      ]
     },
     "execution_count": 86,
     "metadata": {},
     "output_type": "execute_result"
    }
   ],
   "source": [
    "fn_in = os.path.join(working_dir, filename)\n",
    "fn_model = os.path.join(working_dir, filename_model)\n",
    "\n",
    "dn_reg = os.path.join(working_dir, 'registration')\n",
    "fn_out_base = os.path.join(dn_reg, filename_wo_ext(filename))\n",
    "\n",
    "run_command('mkdir -p %s' % dn_reg)"
   ]
  },
  {
   "cell_type": "code",
   "execution_count": 87,
   "metadata": {
    "collapsed": false
   },
   "outputs": [],
   "source": [
    "verbose = False\n",
    "for f in range(dat.shape[-1]):\n",
    "    fn_frame = '%s_on_model_%03d.nii.gz' % (fn_out_base, f)\n",
    "    cmd = 'fslroi %s %s %s 1' % (fn_model, fn_frame, f)\n",
    "    run_command(cmd, verbose)\n",
    "    \n",
    "    fn_frame = '%s_frame_%03d.nii.gz' % (fn_out_base, f)\n",
    "    cmd = 'fslroi %s %s %s 1' % (fn_in, fn_frame, f)\n",
    "    run_command(cmd, verbose)\n",
    "    \n",
    "\n",
    "fn_ref_on_model = '%s_on_model_%03d.nii.gz' % (fn_out_base, 0)\n",
    "fn_ref = '%s_on_model_%03d.nii.gz' % (fn_out_base, 0)\n",
    "run_command('cp -f %s_frame_%03d.nii.gz %s_frame_%03d_xenc.nii.gz' % (fn_out_base, 0, fn_out_base, 0), verbose)\n",
    "run_command('cp -f %s_on_model_%03d.nii.gz %s_on_model_%03d_xenc.nii.gz' % (fn_out_base, 0, fn_out_base, 0), verbose)\n",
    "\n",
    "for f in range(1, dat.shape[-1]):\n",
    "    fn_frame = '%s_on_model_%03d.nii.gz' % (fn_out_base, f)\n",
    "    fn_warp = '%s_on_model_%03d_warp' % (fn_out_base, f)\n",
    "    fn_out = '%s_on_model_%03d_xenc.nii.gz' % (fn_out_base, f)\n",
    "    cmd = on_dbsi_utils.reg_ms(fn_ref_on_model, fn_frame, fn_warp, fn_out, fn_mask=None)\n",
    "    run_command(cmd, verbose)\n",
    "    \n",
    "    fn_frame = '%s_frame_%03d.nii.gz' % (fn_out_base, f)\n",
    "    fn_out = '%s_frame_%03d_xenc.nii.gz' % (fn_out_base, f)\n",
    "    cmd = 'antsApplyTransforms -d 3 -i %s -r %s -o %s -n BSpline[3] -t %s1Warp.nii.gz' \\\n",
    "        % (fn_frame, fn_ref, fn_out, fn_warp)\n",
    "    run_command(cmd, verbose)\n",
    "    \n",
    "    "
   ]
  },
  {
   "cell_type": "markdown",
   "metadata": {},
   "source": [
    "### Merge registered frames"
   ]
  },
  {
   "cell_type": "code",
   "execution_count": 109,
   "metadata": {
    "collapsed": false
   },
   "outputs": [
    {
     "data": {
      "text/plain": [
       "0"
      ]
     },
     "execution_count": 109,
     "metadata": {},
     "output_type": "execute_result"
    }
   ],
   "source": [
    "fn_reg = '%s_reg.nii.gz' % fn_out_base\n",
    "fns_frame = ['%s_frame_%03d_xenc.nii.gz' % (fn_out_base, f) for f in range(dat.shape[-1])]\n",
    "cmd = 'fslmerge -t %s %s' % (fn_reg, ' '.join(fns_frame))\n",
    "run_command(cmd, verbose)"
   ]
  },
  {
   "cell_type": "markdown",
   "metadata": {},
   "source": [
    "### Merge registered centerlines (optional)"
   ]
  },
  {
   "cell_type": "code",
   "execution_count": 108,
   "metadata": {
    "collapsed": false
   },
   "outputs": [
    {
     "data": {
      "text/plain": [
       "0"
      ]
     },
     "execution_count": 108,
     "metadata": {},
     "output_type": "execute_result"
    }
   ],
   "source": [
    "fn_model_reg = '%s_on_model_reg.nii.gz' % fn_out_base\n",
    "fns_frame = ['%s_on_model_%03d_xenc.nii.gz' % (fn_out_base, f) for f in range(dat.shape[-1])]\n",
    "cmd = 'fslmerge -t %s %s' % (fn_model_reg, ' '.join(fns_frame))\n",
    "run_command(cmd, verbose)"
   ]
  },
  {
   "cell_type": "code",
   "execution_count": null,
   "metadata": {
    "collapsed": true
   },
   "outputs": [],
   "source": []
  }
 ],
 "metadata": {
  "kernelspec": {
   "display_name": "Python 2",
   "language": "python",
   "name": "python2"
  },
  "language_info": {
   "codemirror_mode": {
    "name": "ipython",
    "version": 2
   },
   "file_extension": ".py",
   "mimetype": "text/x-python",
   "name": "python",
   "nbconvert_exporter": "python",
   "pygments_lexer": "ipython2",
   "version": "2.7.12"
  }
 },
 "nbformat": 4,
 "nbformat_minor": 0
}
